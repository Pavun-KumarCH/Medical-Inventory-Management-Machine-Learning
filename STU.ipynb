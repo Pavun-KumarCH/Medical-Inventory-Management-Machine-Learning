{
  "nbformat": 4,
  "nbformat_minor": 0,
  "metadata": {
    "colab": {
      "private_outputs": true,
      "provenance": [],
      "authorship_tag": "ABX9TyMeS4729dBDwoajkJYss4RW",
      "include_colab_link": true
    },
    "kernelspec": {
      "name": "python3",
      "display_name": "Python 3"
    },
    "language_info": {
      "name": "python"
    }
  },
  "cells": [
    {
      "cell_type": "markdown",
      "metadata": {
        "id": "view-in-github",
        "colab_type": "text"
      },
      "source": [
        "<a href=\"https://colab.research.google.com/github/Pavun-KumarCH/Medical-Inventory-Management-Machine-Learning/blob/main/STU.ipynb\" target=\"_parent\"><img src=\"https://colab.research.google.com/assets/colab-badge.svg\" alt=\"Open In Colab\"/></a>"
      ]
    },
    {
      "cell_type": "code",
      "execution_count": null,
      "metadata": {
        "id": "YWHN4tU9FcMr"
      },
      "outputs": [],
      "source": [
        "import pandas as pd\n",
        "\n",
        "# Sample data for demonstration; replace with your actual data loading step\n",
        "data = {\n",
        "    'Typeofsales': ['Retail', 'Wholesale', 'Retail', 'Wholesale'],\n",
        "    'Specialisation': ['Cardiology', 'Orthopedics', 'Dermatology', 'Pediatrics'],\n",
        "    'Dept': ['Dept1', 'Dept2', 'Dept1', 'Dept3'],\n",
        "    'Dateofbill': ['2024-01-01', '2024-01-02', '2024-01-03', '2024-01-04'],\n",
        "    'Quantity': [10, 20, 15, 25],\n",
        "    'Final_Cost': [1000, 1800, 1350, 2250],\n",
        "    'Final_Sales': [1500, 2500, 2100, 3000],\n",
        "    'RtnMRP': [1600, 2600, 2200, 3100],\n",
        "    'Formulation': ['Tablet', 'Capsule', 'Ointment', 'Syrup'],\n",
        "    'DrugName': ['DrugA', 'DrugB', 'DrugC', 'DrugD'],\n",
        "    'SubCat': ['Sub1', 'Sub2', 'Sub1', 'Sub3'],\n",
        "    'SubCat1': ['Sub1.1', 'Sub2.1', 'Sub1.1', 'Sub3.1']\n",
        "}\n",
        "\n",
        "# Convert the dictionary to a pandas DataFrame\n",
        "df = pd.DataFrame(data)\n",
        "\n",
        "# Convert 'Dateofbill' to datetime\n",
        "df['Dateofbill'] = pd.to_datetime(df['Dateofbill'])\n",
        "\n",
        "# Calculate Total Profit\n",
        "df['Profit'] = df['Final_Sales'] - df['Final_Cost']\n",
        "\n",
        "# Calculate Profit Margin\n",
        "df['Profit_Margin'] = df['Profit'] / df['Final_Sales']\n",
        "\n",
        "# Calculate Return on Investment (ROI)\n",
        "df['ROI'] = df['Profit'] / df['Final_Cost']\n",
        "\n",
        "# Calculate Average Selling Price (ASP)\n",
        "df['ASP'] = df['Final_Sales'] / df['Quantity']\n",
        "\n",
        "# Calculate Average Cost Price (ACP)\n",
        "df['ACP'] = df['Final_Cost'] / df['Quantity']\n",
        "\n",
        "# Calculate Markup\n",
        "df['Markup'] = df['Profit'] / df['Final_Cost']\n",
        "\n",
        "# Calculate Return Margin\n",
        "df['Return_Margin'] = (df['RtnMRP'] - df['Final_Cost']) / df['RtnMRP']\n",
        "\n",
        "# Display the first few rows of the updated dataframe\n",
        "print(df.head())\n",
        "\n",
        "# Optional analysis\n",
        "total_profit = df['Profit'].sum()\n",
        "mean_profit_margin = df['Profit_Margin'].mean()\n",
        "mean_roi = df['ROI'].mean()\n",
        "mean_asp = df['ASP'].mean()\n",
        "mean_acp = df['ACP'].mean()\n",
        "mean_markup = df['Markup'].mean()\n",
        "mean_return_margin = df['Return_Margin'].mean()\n",
        "\n",
        "print(f\"Total Profit: {total_profit}\")\n",
        "print(f\"Mean Profit Margin: {mean_profit_margin}\")\n",
        "print(f\"Mean ROI: {mean_roi}\")\n",
        "print(f\"Mean ASP: {mean_asp}\")\n",
        "print(f\"Mean ACP: {mean_acp}\")\n",
        "print(f\"Mean Markup: {mean_markup}\")\n",
        "print(f\"Mean Return Margin: {mean_return_margin}\")\n"
      ]
    },
    {
      "cell_type": "code",
      "source": [
        "df"
      ],
      "metadata": {
        "id": "krg42zt6FgWe"
      },
      "execution_count": null,
      "outputs": []
    },
    {
      "cell_type": "code",
      "source": [],
      "metadata": {
        "id": "nY9N_xS4GXjN"
      },
      "execution_count": null,
      "outputs": []
    }
  ]
}